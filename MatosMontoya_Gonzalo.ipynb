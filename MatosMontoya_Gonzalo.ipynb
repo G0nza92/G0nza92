{
 "cells": [
  {
   "cell_type": "markdown",
   "id": "77199fdc",
   "metadata": {
    "toc": true
   },
   "source": [
    "<h1>Table of Contents<span class=\"tocSkip\"></span></h1>\n",
    "<div class=\"toc\"><ul class=\"toc-item\"><li><span><a href=\"#Importamos-Librerias\" data-toc-modified-id=\"Importamos-Librerias-1\"><span class=\"toc-item-num\">1&nbsp;&nbsp;</span>Importamos Librerias</a></span></li><li><span><a href=\"#Los-Datos\" data-toc-modified-id=\"Los-Datos-2\"><span class=\"toc-item-num\">2&nbsp;&nbsp;</span>Los Datos</a></span></li><li><span><a href=\"#Dividimos-Train-y-Test\" data-toc-modified-id=\"Dividimos-Train-y-Test-3\"><span class=\"toc-item-num\">3&nbsp;&nbsp;</span>Dividimos Train y Test</a></span></li><li><span><a href=\"#Seleccion-de-Modelos\" data-toc-modified-id=\"Seleccion-de-Modelos-4\"><span class=\"toc-item-num\">4&nbsp;&nbsp;</span>Seleccion de Modelos</a></span><ul class=\"toc-item\"><li><span><a href=\"#Arbol-de-Clasificacion\" data-toc-modified-id=\"Arbol-de-Clasificacion-4.1\"><span class=\"toc-item-num\">4.1&nbsp;&nbsp;</span>Arbol de Clasificacion</a></span></li><li><span><a href=\"#Cross-Validation\" data-toc-modified-id=\"Cross-Validation-4.2\"><span class=\"toc-item-num\">4.2&nbsp;&nbsp;</span>Cross Validation</a></span></li><li><span><a href=\"#Normalizacion-de-Datos\" data-toc-modified-id=\"Normalizacion-de-Datos-4.3\"><span class=\"toc-item-num\">4.3&nbsp;&nbsp;</span>Normalizacion de Datos</a></span></li><li><span><a href=\"#Regresion-Logistica\" data-toc-modified-id=\"Regresion-Logistica-4.4\"><span class=\"toc-item-num\">4.4&nbsp;&nbsp;</span>Regresion Logistica</a></span></li><li><span><a href=\"#KNN\" data-toc-modified-id=\"KNN-4.5\"><span class=\"toc-item-num\">4.5&nbsp;&nbsp;</span>KNN</a></span></li><li><span><a href=\"#SMV\" data-toc-modified-id=\"SMV-4.6\"><span class=\"toc-item-num\">4.6&nbsp;&nbsp;</span>SMV</a></span></li><li><span><a href=\"#SMV-Lineal\" data-toc-modified-id=\"SMV-Lineal-4.7\"><span class=\"toc-item-num\">4.7&nbsp;&nbsp;</span>SMV Lineal</a></span></li><li><span><a href=\"#SMV-con-Kernel-no-lineal-&quot;rbf&quot;\" data-toc-modified-id=\"SMV-con-Kernel-no-lineal-&quot;rbf&quot;-4.8\"><span class=\"toc-item-num\">4.8&nbsp;&nbsp;</span>SMV con Kernel no lineal \"rbf\"</a></span></li><li><span><a href=\"#SMV-con-Kernel-polinomico-grado-3\" data-toc-modified-id=\"SMV-con-Kernel-polinomico-grado-3-4.9\"><span class=\"toc-item-num\">4.9&nbsp;&nbsp;</span>SMV con Kernel polinomico grado 3</a></span></li><li><span><a href=\"#SVM-con-kernel-polinómico-de-grado-4\" data-toc-modified-id=\"SVM-con-kernel-polinómico-de-grado-4-4.10\"><span class=\"toc-item-num\">4.10&nbsp;&nbsp;</span>SVM con kernel polinómico de grado 4</a></span></li><li><span><a href=\"#SVM-con-kernel-sigmoide\" data-toc-modified-id=\"SVM-con-kernel-sigmoide-4.11\"><span class=\"toc-item-num\">4.11&nbsp;&nbsp;</span>SVM con kernel sigmoide</a></span></li><li><span><a href=\"#Voting-Classifier\" data-toc-modified-id=\"Voting-Classifier-4.12\"><span class=\"toc-item-num\">4.12&nbsp;&nbsp;</span>Voting Classifier</a></span></li><li><span><a href=\"#GridSearchCV-con-VotingClassifier\" data-toc-modified-id=\"GridSearchCV-con-VotingClassifier-4.13\"><span class=\"toc-item-num\">4.13&nbsp;&nbsp;</span>GridSearchCV con VotingClassifier</a></span><ul class=\"toc-item\"><li><span><a href=\"#Regresion-lineal-con-ridge\" data-toc-modified-id=\"Regresion-lineal-con-ridge-4.13.1\"><span class=\"toc-item-num\">4.13.1&nbsp;&nbsp;</span>Regresion lineal con ridge</a></span></li><li><span><a href=\"#KNN\" data-toc-modified-id=\"KNN-4.13.2\"><span class=\"toc-item-num\">4.13.2&nbsp;&nbsp;</span>KNN</a></span></li><li><span><a href=\"#Arbol\" data-toc-modified-id=\"Arbol-4.13.3\"><span class=\"toc-item-num\">4.13.3&nbsp;&nbsp;</span>Arbol</a></span></li><li><span><a href=\"#SMV\" data-toc-modified-id=\"SMV-4.13.4\"><span class=\"toc-item-num\">4.13.4&nbsp;&nbsp;</span>SMV</a></span></li><li><span><a href=\"#Creamos-el-&quot;meta-modelo&quot;-con-el-ensemble-del-VotingClassifier\" data-toc-modified-id=\"Creamos-el-&quot;meta-modelo&quot;-con-el-ensemble-del-VotingClassifier-4.13.5\"><span class=\"toc-item-num\">4.13.5&nbsp;&nbsp;</span>Creamos el \"meta modelo\" con el ensemble del VotingClassifier</a></span></li></ul></li><li><span><a href=\"#Creamos-GridSearchCV\" data-toc-modified-id=\"Creamos-GridSearchCV-4.14\"><span class=\"toc-item-num\">4.14&nbsp;&nbsp;</span>Creamos GridSearchCV</a></span><ul class=\"toc-item\"><li><span><a href=\"#Lo-Entrenamos\" data-toc-modified-id=\"Lo-Entrenamos-4.14.1\"><span class=\"toc-item-num\">4.14.1&nbsp;&nbsp;</span>Lo Entrenamos</a></span></li><li><span><a href=\"#Lo-Evaluamos\" data-toc-modified-id=\"Lo-Evaluamos-4.14.2\"><span class=\"toc-item-num\">4.14.2&nbsp;&nbsp;</span>Lo Evaluamos</a></span></li></ul></li><li><span><a href=\"#Ramdom-Forest\" data-toc-modified-id=\"Ramdom-Forest-4.15\"><span class=\"toc-item-num\">4.15&nbsp;&nbsp;</span>Ramdom Forest</a></span><ul class=\"toc-item\"><li><span><a href=\"#Creamos-el-Modelo\" data-toc-modified-id=\"Creamos-el-Modelo-4.15.1\"><span class=\"toc-item-num\">4.15.1&nbsp;&nbsp;</span>Creamos el Modelo</a></span></li><li><span><a href=\"#Lo-Entrenamos\" data-toc-modified-id=\"Lo-Entrenamos-4.15.2\"><span class=\"toc-item-num\">4.15.2&nbsp;&nbsp;</span>Lo Entrenamos</a></span></li><li><span><a href=\"#Lo-Evaluamos\" data-toc-modified-id=\"Lo-Evaluamos-4.15.3\"><span class=\"toc-item-num\">4.15.3&nbsp;&nbsp;</span>Lo Evaluamos</a></span></li></ul></li><li><span><a href=\"#Extremely-Randomized-Trees\" data-toc-modified-id=\"Extremely-Randomized-Trees-4.16\"><span class=\"toc-item-num\">4.16&nbsp;&nbsp;</span>Extremely Randomized Trees</a></span></li></ul></li><li><span><a href=\"#Eleccion-de-Modelo\" data-toc-modified-id=\"Eleccion-de-Modelo-5\"><span class=\"toc-item-num\">5&nbsp;&nbsp;</span>Eleccion de Modelo</a></span><ul class=\"toc-item\"><li><span><a href=\"#Normalizamos\" data-toc-modified-id=\"Normalizamos-5.1\"><span class=\"toc-item-num\">5.1&nbsp;&nbsp;</span>Normalizamos</a></span></li><li><span><a href=\"#Entrenamos-y-Evaluamos\" data-toc-modified-id=\"Entrenamos-y-Evaluamos-5.2\"><span class=\"toc-item-num\">5.2&nbsp;&nbsp;</span>Entrenamos y Evaluamos</a></span></li><li><span><a href=\"#Modelo-de-Produccion\" data-toc-modified-id=\"Modelo-de-Produccion-5.3\"><span class=\"toc-item-num\">5.3&nbsp;&nbsp;</span>Modelo de Produccion</a></span><ul class=\"toc-item\"><li><span><a href=\"#Nuevos-Datos\" data-toc-modified-id=\"Nuevos-Datos-5.3.1\"><span class=\"toc-item-num\">5.3.1&nbsp;&nbsp;</span>Nuevos Datos</a></span></li></ul></li></ul></li></ul></div>"
   ]
  },
  {
   "cell_type": "markdown",
   "id": "5bb9953f",
   "metadata": {},
   "source": [
    "#  Importamos Librerias"
   ]
  },
  {
   "cell_type": "code",
   "execution_count": 19,
   "id": "4b76f87f",
   "metadata": {
    "ExecuteTime": {
     "end_time": "2021-11-23T02:47:52.412321Z",
     "start_time": "2021-11-23T02:47:52.394321Z"
    }
   },
   "outputs": [],
   "source": [
    "import numpy as np\n",
    "import pandas as pd\n",
    "import sklearn\n",
    "import matplotlib.pyplot as plt\n",
    "from sklearn.model_selection import train_test_split\n",
    "from sklearn.tree import DecisionTreeClassifier\n",
    "from sklearn.metrics import confusion_matrix, accuracy_score, f1_score\n",
    "from sklearn.preprocessing import MinMaxScaler\n",
    "from sklearn.compose import ColumnTransformer\n",
    "from sklearn.preprocessing import OrdinalEncoder\n",
    "from sklearn.neighbors import KNeighborsClassifier\n",
    "# Importamos las librerías para los modelos\n",
    "from sklearn import linear_model        # Para regresión Logística\n",
    "from sklearn import neighbors           # para kNN\n",
    "from sklearn.tree import DecisionTreeClassifier  # para Árbol de Decisión\n",
    "from sklearn.svm import LinearSVC"
   ]
  },
  {
   "cell_type": "markdown",
   "id": "397d6e5a",
   "metadata": {},
   "source": [
    "#  Los Datos"
   ]
  },
  {
   "cell_type": "code",
   "execution_count": 20,
   "id": "1ea0425d",
   "metadata": {
    "ExecuteTime": {
     "end_time": "2021-11-23T02:47:56.576482Z",
     "start_time": "2021-11-23T02:47:52.663324Z"
    }
   },
   "outputs": [],
   "source": [
    "X=np.load('X_MNIST_60_mil.npy', allow_pickle=True)\n",
    "y=np.load('y_MNIST_60_mil.npy', allow_pickle=True)\n",
    "y = y.astype(np.uint8)   # algunos algoritmos dan error si los valores de y no son números"
   ]
  },
  {
   "cell_type": "code",
   "execution_count": 21,
   "id": "30e6b9f0",
   "metadata": {
    "ExecuteTime": {
     "end_time": "2021-11-23T02:47:56.591480Z",
     "start_time": "2021-11-23T02:47:56.580477Z"
    }
   },
   "outputs": [
    {
     "data": {
      "text/plain": [
       "((60000, 784), (60000,))"
      ]
     },
     "execution_count": 21,
     "metadata": {},
     "output_type": "execute_result"
    }
   ],
   "source": [
    "X.shape, y.shape"
   ]
  },
  {
   "cell_type": "code",
   "execution_count": 22,
   "id": "c96bd34b",
   "metadata": {
    "ExecuteTime": {
     "end_time": "2021-11-23T02:47:56.824475Z",
     "start_time": "2021-11-23T02:47:56.595482Z"
    }
   },
   "outputs": [
    {
     "data": {
      "text/plain": [
       "array([  0.,   0.,   0.,   0.,   0.,   0.,   0.,   0.,   0.,   0.,   0.,\n",
       "         0.,   0.,   0.,   0.,   0.,   0.,   0.,   0.,   0.,   0.,   0.,\n",
       "         0.,   0.,   0.,   0.,   0.,   0.,   0.,   0.,   0.,   0.,   0.,\n",
       "         0.,   0.,   0.,   0.,   0.,   0.,   0.,   0.,   0.,   0.,   0.,\n",
       "         0.,   0.,   0.,   0.,   0.,   0.,   0.,   0.,   0.,   0.,   0.,\n",
       "         0.,   0.,   0.,   0.,   0.,   0.,   0.,   0.,   0.,   0.,   0.,\n",
       "         0.,   0.,   0.,   0.,   0.,   0.,   0.,   0.,   0.,   0.,   0.,\n",
       "         0.,   0.,   0.,   0.,   0.,   0.,   0.,   0.,   0.,   0.,   0.,\n",
       "         0.,   0.,   0.,   0.,   0.,   0.,   0.,   0.,   0.,   0.,   0.,\n",
       "         0.,   0.,   0.,   0.,   0.,   0.,   0.,   0.,   0.,   0.,   0.,\n",
       "         0.,   0.,   0.,   0.,   0.,   0.,   0.,   0.,   0.,   0.,   0.,\n",
       "         0.,   0.,   0.,   0.,   0.,  51., 191.,  25.,   0.,   0.,   0.,\n",
       "         0.,   0.,   0.,   0.,   0.,   0.,   0.,   0.,   0.,   0.,   0.,\n",
       "         0.,   0.,   0.,   0.,   0.,   0.,   0.,   0.,   0.,   0., 126.,\n",
       "       238., 252.,  55.,   0.,   0.,   0.,   0.,   0.,   0.,   0.,   0.,\n",
       "         0.,   0.,   0.,   0.,   0.,   0.,   0.,   0.,   0.,   0.,   0.,\n",
       "         0.,   0.,   0.,   0.,   0., 140., 253., 252.,  55.,   0.,   0.,\n",
       "         0.,   0.,   0.,   0.,   0.,   0.,   0.,   0.,   0.,   0.,   0.,\n",
       "         0.,   0.,   0.,   0.,   0.,   0.,   0.,   0.,   0.,   0.,   0.,\n",
       "       140., 253., 242.,  49.,   0.,   0.,   0.,   0.,   0.,   0.,   0.,\n",
       "         0.,   0.,   0.,   0.,   0.,   0.,   0.,   0.,   0.,   0.,   0.,\n",
       "         0.,   0.,   0.,   0.,   0.,   0., 140., 253., 167.,   0.,   0.,\n",
       "         0.,   0.,   0.,   0.,   0.,   0.,   0.,   0.,   0.,   0.,   0.,\n",
       "         0.,   0.,   0.,   0.,   0.,   0.,   0.,   0.,   0.,   0.,   0.,\n",
       "        29., 253., 255., 168.,   0.,   0.,   0.,   0.,   0.,   0.,   0.,\n",
       "         0.,   0.,   0.,   0.,   0.,   0.,   0.,   0.,   0.,   0.,   0.,\n",
       "         0.,   0.,   0.,   0.,   0.,   0.,  29., 252., 253., 167.,   0.,\n",
       "         0.,   0.,   0.,   0.,   0.,   0.,   0.,   0.,   0.,   0.,   0.,\n",
       "         0.,   0.,   0.,   0.,   0.,   0.,   0.,   0.,   0.,   0.,   0.,\n",
       "         0.,  29., 252., 253.,  58.,   0.,   0.,   0.,   0.,   0.,   0.,\n",
       "         0.,   0.,   0.,   0.,   0.,   0.,   0.,   0.,   0.,   0.,   0.,\n",
       "         0.,   0.,   0.,   0.,   0.,   0.,   0.,  44., 252., 253.,  27.,\n",
       "         0.,   0.,   0.,   0.,   0.,   0.,   0.,   0.,   0.,   0.,   0.,\n",
       "         0.,   0.,   0.,   0.,   0.,   0.,   0.,   0.,   0.,   0.,   0.,\n",
       "         0.,   0., 169., 252., 253.,  27.,   0.,   0.,   0.,   0.,   0.,\n",
       "         0.,   0.,   0.,   0.,   0.,   0.,   0.,   0.,   0.,   0.,   0.,\n",
       "         0.,   0.,   0.,   0.,   0.,   0.,   0.,  57., 253., 253., 255.,\n",
       "        27.,   0.,   0.,   0.,   0.,   0.,   0.,   0.,   0.,   0.,   0.,\n",
       "         0.,   0.,   0.,   0.,   0.,   0.,   0.,   0.,   0.,   0.,   0.,\n",
       "         0.,   0.,   6., 177., 252., 253.,  27.,   0.,   0.,   0.,   0.,\n",
       "         0.,   0.,   0.,   0.,   0.,   0.,   0.,   0.,   0.,   0.,   0.,\n",
       "         0.,   0.,   0.,   0.,   0.,   0.,   0.,   0.,   0., 137., 252.,\n",
       "       253.,  59.,   0.,   0.,   0.,   0.,   0.,   0.,   0.,   0.,   0.,\n",
       "         0.,   0.,   0.,   0.,   0.,   0.,   0.,   0.,   0.,   0.,   0.,\n",
       "         0.,   0.,   0.,   0., 123., 252., 253., 167.,   0.,   0.,   0.,\n",
       "         0.,   0.,   0.,   0.,   0.,   0.,   0.,   0.,   0.,   0.,   0.,\n",
       "         0.,   0.,   0.,   0.,   0.,   0.,   0.,   0.,   0.,   0., 169.,\n",
       "       252., 253., 167.,   0.,   0.,   0.,   0.,   0.,   0.,   0.,   0.,\n",
       "         0.,   0.,   0.,   0.,   0.,   0.,   0.,   0.,   0.,   0.,   0.,\n",
       "         0.,   0.,   0.,   0.,   0., 169., 253., 255., 168.,   0.,   0.,\n",
       "         0.,   0.,   0.,   0.,   0.,   0.,   0.,   0.,   0.,   0.,   0.,\n",
       "         0.,   0.,   0.,   0.,   0.,   0.,   0.,   0.,   0.,   0.,   0.,\n",
       "       169., 252., 253.,  42.,   0.,   0.,   0.,   0.,   0.,   0.,   0.,\n",
       "         0.,   0.,   0.,   0.,   0.,   0.,   0.,   0.,   0.,   0.,   0.,\n",
       "         0.,   0.,   0.,   0.,   0.,  45., 234., 252., 228.,  21.,   0.,\n",
       "         0.,   0.,   0.,   0.,   0.,   0.,   0.,   0.,   0.,   0.,   0.,\n",
       "         0.,   0.,   0.,   0.,   0.,   0.,   0.,   0.,   0.,   0.,   0.,\n",
       "        57., 252., 252., 126.,   0.,   0.,   0.,   0.,   0.,   0.,   0.,\n",
       "         0.,   0.,   0.,   0.,   0.,   0.,   0.,   0.,   0.,   0.,   0.,\n",
       "         0.,   0.,   0.,   0.,   0.,   0.,  25., 205., 252.,   0.,   0.,\n",
       "         0.,   0.,   0.,   0.,   0.,   0.,   0.,   0.,   0.,   0.,   0.,\n",
       "         0.,   0.,   0.,   0.,   0.,   0.,   0.,   0.,   0.,   0.,   0.,\n",
       "         0.,   0.,   0.,   0.,   0.,   0.,   0.,   0.,   0.,   0.,   0.,\n",
       "         0.,   0.,   0.,   0.,   0.,   0.,   0.,   0.,   0.,   0.,   0.,\n",
       "         0.,   0.,   0.,   0.,   0.,   0.,   0.,   0.,   0.,   0.,   0.,\n",
       "         0.,   0.,   0.,   0.,   0.,   0.,   0.,   0.,   0.,   0.,   0.,\n",
       "         0.,   0.,   0.,   0.,   0.,   0.,   0.,   0.,   0.,   0.,   0.,\n",
       "         0.,   0.,   0.,   0.,   0.,   0.,   0.,   0.,   0.,   0.,   0.,\n",
       "         0.,   0.,   0.,   0.,   0.,   0.,   0.,   0.,   0.,   0.,   0.,\n",
       "         0.,   0.,   0.,   0.,   0.,   0.,   0.,   0.,   0.,   0.,   0.,\n",
       "         0.,   0.,   0.,   0.,   0.,   0.,   0.,   0.,   0.,   0.,   0.,\n",
       "         0.,   0.,   0.])"
      ]
     },
     "execution_count": 22,
     "metadata": {},
     "output_type": "execute_result"
    }
   ],
   "source": [
    "X[5,:]"
   ]
  },
  {
   "cell_type": "code",
   "execution_count": 23,
   "id": "10064ccb",
   "metadata": {
    "ExecuteTime": {
     "end_time": "2021-11-23T02:47:57.318477Z",
     "start_time": "2021-11-23T02:47:56.828480Z"
    }
   },
   "outputs": [
    {
     "data": {
      "text/plain": [
       "(60000, 28, 28)"
      ]
     },
     "execution_count": 23,
     "metadata": {},
     "output_type": "execute_result"
    }
   ],
   "source": [
    "X_img=np.resize(X,(60000,28,28))\n",
    "X_img.shape"
   ]
  },
  {
   "cell_type": "code",
   "execution_count": 24,
   "id": "c5c1ef27",
   "metadata": {
    "ExecuteTime": {
     "end_time": "2021-11-23T02:48:00.311476Z",
     "start_time": "2021-11-23T02:47:57.323478Z"
    }
   },
   "outputs": [
    {
     "data": {
      "image/png": "[encoded data removed]",
      "text/plain": [
       "<Figure size 720x720 with 24 Axes>"
      ]
     },
     "metadata": {
      "needs_background": "light"
     },
     "output_type": "display_data"
    }
   ],
   "source": [
    "pos_inicial=500            # Seleccionar a partir de qué imagen queremos ver ésa y las  23 imágenes siguientes\n",
    "\n",
    "plt.figure(figsize = (10,10))               # tamaño de todo el plot\n",
    "plt.subplots_adjust(wspace=0.3, hspace=0.3) # para ajustar los espaciados entre cada subplot, como % del total\n",
    "\n",
    "for i in range(0,24):\n",
    "    # cargamos la imagen en cada subplot con imshow()\n",
    "    plt.subplot(4,6,i+1)\n",
    "    plt.imshow(X_img[pos_inicial+i], cmap='binary', vmin=0, vmax=255) \n",
    "    # Info sobre los mapas de color cmap: https://matplotlib.org/3.3.3/tutorials/colors/colormaps.html\n",
    "    plt.title(y[pos_inicial+i])         # obtenemos la clase desde y_clases\n",
    "\n",
    "plt.show()\n"
   ]
  },
  {
   "cell_type": "markdown",
   "id": "f8bd4e6d",
   "metadata": {},
   "source": [
    "# Dividimos Train y Test"
   ]
  },
  {
   "cell_type": "code",
   "execution_count": 25,
   "id": "0dadad28",
   "metadata": {
    "ExecuteTime": {
     "end_time": "2021-11-23T02:48:00.608477Z",
     "start_time": "2021-11-23T02:48:00.314483Z"
    }
   },
   "outputs": [],
   "source": [
    "X_train, X_test, y_train, y_test = train_test_split(X,y, test_size= 0.20, random_state= 123)\n",
    "X_val_train, X_val_test, y_val_train, y_val_test = train_test_split(X_train, y_train, test_size= 0.20, random_state= 123)"
   ]
  },
  {
   "cell_type": "code",
   "execution_count": 26,
   "id": "0eb1531e",
   "metadata": {
    "ExecuteTime": {
     "end_time": "2021-11-23T02:48:00.639477Z",
     "start_time": "2021-11-23T02:48:00.612480Z"
    }
   },
   "outputs": [
    {
     "data": {
      "text/plain": [
       "array([[0., 0., 0., ..., 0., 0., 0.],\n",
       "       [0., 0., 0., ..., 0., 0., 0.],\n",
       "       [0., 0., 0., ..., 0., 0., 0.],\n",
       "       ...,\n",
       "       [0., 0., 0., ..., 0., 0., 0.],\n",
       "       [0., 0., 0., ..., 0., 0., 0.],\n",
       "       [0., 0., 0., ..., 0., 0., 0.]])"
      ]
     },
     "execution_count": 26,
     "metadata": {},
     "output_type": "execute_result"
    }
   ],
   "source": [
    "X_val_train"
   ]
  },
  {
   "cell_type": "code",
   "execution_count": 27,
   "id": "4d503ae0",
   "metadata": {
    "ExecuteTime": {
     "end_time": "2021-11-23T02:48:00.762477Z",
     "start_time": "2021-11-23T02:48:00.646478Z"
    }
   },
   "outputs": [
    {
     "data": {
      "text/plain": [
       "array([0, 3, 1, ..., 9, 1, 6], dtype=uint8)"
      ]
     },
     "execution_count": 27,
     "metadata": {},
     "output_type": "execute_result"
    }
   ],
   "source": [
    "y_val_train"
   ]
  },
  {
   "cell_type": "markdown",
   "id": "c23c4a0e",
   "metadata": {},
   "source": [
    "# Seleccion de Modelos"
   ]
  },
  {
   "cell_type": "markdown",
   "id": "80453522",
   "metadata": {},
   "source": [
    "## Arbol de Clasificacion"
   ]
  },
  {
   "cell_type": "code",
   "execution_count": 28,
   "id": "538900ec",
   "metadata": {
    "ExecuteTime": {
     "end_time": "2021-11-23T02:50:44.117745Z",
     "start_time": "2021-11-23T02:48:00.766481Z"
    }
   },
   "outputs": [
    {
     "name": "stdout",
     "output_type": "stream",
     "text": [
      "Valor de :profundidad  15\n",
      "Acurracy:  0.868\n",
      "F1:  0.866\n"
     ]
    }
   ],
   "source": [
    "profundidades=np.arange(1,20,1)\n",
    "\n",
    "pArbol_max=0\n",
    "ACArbol_max=0\n",
    "F1Arbol_max=0\n",
    "\n",
    "\n",
    "for p in profundidades: \n",
    "    modeloT= modelo=DecisionTreeClassifier(max_depth=p, random_state=123)       \n",
    "    modeloT.fit(X_val_train, y_val_train) \n",
    "    \n",
    "    y_val_pred = modeloT.predict(X_val_test)     \n",
    "    ACArbol=accuracy_score(y_val_test, y_val_pred)\n",
    "    F1Arbol=f1_score(y_val_test,y_val_pred, average='macro')\n",
    "\n",
    "    if ACArbol > ACArbol_max:\n",
    "        pArbol_max=p\n",
    "        ACArbol_max=ACArbol\n",
    "        F1Arbol_max=F1Arbol\n",
    "        \n",
    "    \n",
    "print('Valor de :profundidad ', pArbol_max)\n",
    "print(\"Acurracy: \", round(ACArbol_max,3))\n",
    "print(\"F1: \", round(F1Arbol_max,3))\n"
   ]
  },
  {
   "cell_type": "markdown",
   "id": "1f2c7bb4",
   "metadata": {},
   "source": [
    "## Cross Validation"
   ]
  },
  {
   "cell_type": "code",
   "execution_count": 29,
   "id": "87870ac4",
   "metadata": {
    "ExecuteTime": {
     "end_time": "2021-11-23T02:51:11.651899Z",
     "start_time": "2021-11-23T02:50:44.124749Z"
    }
   },
   "outputs": [
    {
     "name": "stdout",
     "output_type": "stream",
     "text": [
      "AC en cada fold:  [0.55591667 0.551      0.55366667 0.58758333 0.63416667]\n"
     ]
    }
   ],
   "source": [
    "arbol=DecisionTreeClassifier(max_depth=4)\n",
    "from sklearn.model_selection import cross_val_score \n",
    "AC_scoresarbol = cross_val_score(arbol, X, y, cv=5)\n",
    "\n",
    "# veamos los resultados\n",
    "print(\"AC en cada fold: \",AC_scoresarbol)"
   ]
  },
  {
   "cell_type": "code",
   "execution_count": 30,
   "id": "2e619ebc",
   "metadata": {
    "ExecuteTime": {
     "end_time": "2021-11-23T02:51:11.666900Z",
     "start_time": "2021-11-23T02:51:11.654907Z"
    }
   },
   "outputs": [
    {
     "data": {
      "text/plain": [
       "0.5764666666666667"
      ]
     },
     "execution_count": 30,
     "metadata": {},
     "output_type": "execute_result"
    }
   ],
   "source": [
    "AC_media=AC_scoresarbol.mean()\n",
    "AC_media"
   ]
  },
  {
   "cell_type": "code",
   "execution_count": 31,
   "id": "dbc5278f",
   "metadata": {
    "ExecuteTime": {
     "end_time": "2021-11-23T02:51:11.852903Z",
     "start_time": "2021-11-23T02:51:11.669902Z"
    }
   },
   "outputs": [
    {
     "data": {
      "text/plain": [
       "0.03176023894396542"
      ]
     },
     "execution_count": 31,
     "metadata": {},
     "output_type": "execute_result"
    }
   ],
   "source": [
    "desvio=AC_scoresarbol.std()\n",
    "desvio"
   ]
  },
  {
   "cell_type": "code",
   "execution_count": 32,
   "id": "3d6ac6b4",
   "metadata": {
    "ExecuteTime": {
     "end_time": "2021-11-23T02:51:39.876074Z",
     "start_time": "2021-11-23T02:51:11.855905Z"
    }
   },
   "outputs": [
    {
     "data": {
      "text/plain": [
       "array([nan, nan, nan, nan, nan])"
      ]
     },
     "execution_count": 32,
     "metadata": {},
     "output_type": "execute_result"
    }
   ],
   "source": [
    "f1_scoresarbol= cross_val_score(arbol, X, y, cv=5,scoring='f1' )\n",
    "f1_scoresarbol"
   ]
  },
  {
   "cell_type": "markdown",
   "id": "7d35cd8b",
   "metadata": {},
   "source": [
    "## Normalizacion de Datos "
   ]
  },
  {
   "cell_type": "code",
   "execution_count": 33,
   "id": "628cd4b4",
   "metadata": {
    "ExecuteTime": {
     "end_time": "2021-11-23T02:51:40.215084Z",
     "start_time": "2021-11-23T02:51:39.879078Z"
    }
   },
   "outputs": [],
   "source": [
    "t_norm=MinMaxScaler()\n",
    "transformador_columnas= MinMaxScaler(feature_range=(0, 1), copy=False)\n",
    "transformador_columnas.fit(X_val_train)\n",
    "X_val_train_N=transformador_columnas.transform(X_val_train)\n",
    "X_val_test_N=transformador_columnas.transform(X_val_test)"
   ]
  },
  {
   "cell_type": "markdown",
   "id": "5d779735",
   "metadata": {},
   "source": [
    "## Regresion Logistica "
   ]
  },
  {
   "cell_type": "code",
   "execution_count": 34,
   "id": "0ffd1b53",
   "metadata": {
    "ExecuteTime": {
     "end_time": "2021-11-23T02:51:40.245076Z",
     "start_time": "2021-11-23T02:51:40.225082Z"
    }
   },
   "outputs": [],
   "source": [
    "#REGRESION LOGISTICA ESTA COMENTADO PORQUE TARDABA MUCHO LA COMPILACION, MAS DE 1 HORA\n",
    "#modeloRLog=linear_model.LogisticRegression(max_iter= 20000,penalty='none',fit_intercept=True, random_state=123)\n",
    "#modeloRLog.fit(X_val_train_N,y_val_train)\n",
    "#y_val_pred_N=modeloRLog.predict(X_val_test_N)\n",
    "\n",
    "#Evaluamos en el Val_Test Set\n",
    "#AC_RLog=accuracy_score(y_val_test, y_val_pred)\n",
    "#F1_RLog=f1_score(y_val_test,y_val_pred, average='macro')\n",
    "#CM=confusion_matrix(y_test,y_pred)\n",
    "### Mostramos:\n",
    "\n",
    "#print(\"Evaluación modelo de Regresión Logística en el Validation\")\n",
    "#print(\"Accuracy: \", round(AC_RLog,3))\n",
    "#print(\"F1: \", round(F1_RLog,3))"
   ]
  },
  {
   "cell_type": "markdown",
   "id": "eee67fa3",
   "metadata": {},
   "source": [
    "## KNN"
   ]
  },
  {
   "cell_type": "code",
   "execution_count": 35,
   "id": "a812ebd6",
   "metadata": {
    "ExecuteTime": {
     "end_time": "2021-11-23T02:51:40.402076Z",
     "start_time": "2021-11-23T02:51:40.249082Z"
    }
   },
   "outputs": [],
   "source": [
    "#k_valores=np.arange(1,21,1)   # tuvimos que poner hasta 21 porque Numpy llega hasta el anterior\n",
    "#k_valores                     # ésto se puede omitir si se tiene confianza"
   ]
  },
  {
   "cell_type": "code",
   "execution_count": 36,
   "id": "8260f2b6",
   "metadata": {
    "ExecuteTime": {
     "end_time": "2021-11-23T02:51:40.527088Z",
     "start_time": "2021-11-23T02:51:40.405078Z"
    }
   },
   "outputs": [],
   "source": [
    "#import warnings\n",
    "#warnings.simplefilter('ignore')\n",
    "# Sólo porque me tiraba un Warning molesto, sino no es necesario\n",
    "#print(\"Evaluación modelo kNN en el Validation\")\n",
    "\n",
    "# Estos serán los valores para el mejor caso, ahora los inicializamos en 0\n",
    "#k_max=0\n",
    "#F1kNN_max=0\n",
    "#ACkNN_max=0\n",
    "\n",
    "#for k in k_valores:\n",
    "    #modelokNN = neighbors.KNeighborsClassifier(n_neighbors=k,weights='uniform')\n",
    "    #modelokNN.fit(X_val_train_N, y_val_train)\n",
    "    #y_val_pred=modelokNN.predict(X_val_test_N)\n",
    "    #ACkNN=accuracy_score(y_val_test, y_val_pred)\n",
    "    #F1kNN=f1_score(y_val_test,y_val_pred, average='macro')\n",
    "    \n",
    "    #if F1kNN>F1kNN_max:\n",
    "        #k_max=k\n",
    "        #F1kNN_max=F1kNN\n",
    "        #ACkNN_max=ACkNN\n",
    "        \n",
    "    \n",
    "    \n",
    "#print('Valor de k: ', k_max)\n",
    "#print(\"Accuracy: \", round(ACkNN_max,3))\n",
    "#print(\"F1: \", round(F1kNN_max,3))"
   ]
  },
  {
   "cell_type": "code",
   "execution_count": 37,
   "id": "7da9805f",
   "metadata": {
    "ExecuteTime": {
     "end_time": "2021-11-23T02:51:40.680075Z",
     "start_time": "2021-11-23T02:51:40.533085Z"
    }
   },
   "outputs": [],
   "source": [
    "#import warnings\n",
    "#warnings.simplefilter('ignore')\n",
    "# Sólo porque me tiraba un Warning molesto, sino no es necesario\n",
    "#print(\"Evaluación modelo kNN en el Validation\")\n",
    "\n",
    "# Estos serán los valores para el mejor caso, ahora los inicializamos en 0\n",
    "#k_maxdis=0\n",
    "#F1kNN_maxdis=0\n",
    "#ACkNN_maxdis=0\n",
    "\n",
    "#for k in k_valores:\n",
    "    #modelokNN = neighbors.KNeighborsClassifier(n_neighbors=k,weights='distance')\n",
    "    #modelokNN.fit(X_val_train_N, y_val_train)\n",
    "    #y_val_pred=modelokNN.predict(X_val_test_N)\n",
    "    #ACkNNdis=accuracy_score(y_val_test, y_val_pred)\n",
    "    #F1kNNdis=f1_score(y_val_test,y_val_pred, average='macro')\n",
    "    \n",
    "    #if F1kNNdis>F1kNN_maxdis:\n",
    "        #k_maxdis=k\n",
    "        #F1kNN_maxdis=F1kNN\n",
    "        #ACkNN_maxdis=ACkNN\n",
    "        \n",
    "    \n",
    "    \n",
    "#print('Valor de k: ', k_maxdis)\n",
    "#print(\"Accuracy: \", round(ACkNN_maxdis,3))\n",
    "#print(\"F1: \", round(F1kNN_maxdis,3))"
   ]
  },
  {
   "cell_type": "markdown",
   "id": "8edec9f8",
   "metadata": {},
   "source": [
    "## SMV"
   ]
  },
  {
   "cell_type": "code",
   "execution_count": 38,
   "id": "a26e9463",
   "metadata": {
    "ExecuteTime": {
     "end_time": "2021-11-23T02:55:10.090543Z",
     "start_time": "2021-11-23T02:51:40.684081Z"
    }
   },
   "outputs": [
    {
     "data": {
      "text/plain": [
       "0.913125"
      ]
     },
     "execution_count": 38,
     "metadata": {},
     "output_type": "execute_result"
    }
   ],
   "source": [
    "SVM=LinearSVC(max_iter=10000)\n",
    "SVM.fit(X_val_train_N,y_val_train)\n",
    "SVM.score(X_val_test_N,y_val_test)"
   ]
  },
  {
   "cell_type": "markdown",
   "id": "8a2fc0d4",
   "metadata": {},
   "source": [
    "## SMV Lineal"
   ]
  },
  {
   "cell_type": "code",
   "execution_count": 39,
   "id": "77add343",
   "metadata": {
    "ExecuteTime": {
     "end_time": "2021-11-23T02:58:51.909163Z",
     "start_time": "2021-11-23T02:55:10.093543Z"
    }
   },
   "outputs": [
    {
     "name": "stdout",
     "output_type": "stream",
     "text": [
      "AC_train:  0.9321875\n",
      "AC_test:  0.9128125\n"
     ]
    }
   ],
   "source": [
    "SVM1=LinearSVC(C=1, max_iter=100000, tol=0.0001,class_weight='balanced')\n",
    "SVM1.fit(X_val_train_N,y_val_train)\n",
    "# Calculemos Accuracy\n",
    "AC_trainSMV=SVM1.score(X_val_train_N,y_val_train)\n",
    "AC_testSMV=SVM1.score(X_val_test_N,y_val_test)\n",
    "print('AC_train: ', AC_trainSMV)\n",
    "print('AC_test: ', AC_testSMV)"
   ]
  },
  {
   "cell_type": "markdown",
   "id": "0b6d6ba1",
   "metadata": {},
   "source": [
    "## SMV con Kernel no lineal \"rbf\""
   ]
  },
  {
   "cell_type": "code",
   "execution_count": 40,
   "id": "769c367a",
   "metadata": {
    "ExecuteTime": {
     "end_time": "2021-11-23T03:02:03.090486Z",
     "start_time": "2021-11-23T02:58:51.913164Z"
    }
   },
   "outputs": [
    {
     "name": "stdout",
     "output_type": "stream",
     "text": [
      "Accuracy para SVM con kernel rbf:  0.9765625\n"
     ]
    }
   ],
   "source": [
    "from sklearn.svm import SVC\n",
    "SVM_rbf=SVC(kernel=\"rbf\")\n",
    "SVM_rbf.fit(X_val_train_N,y_val_train)\n",
    "ACC_rbf=SVM_rbf.score(X_val_test_N,y_val_test)\n",
    "print(\"Accuracy para SVM con kernel rbf: \", ACC_rbf)"
   ]
  },
  {
   "cell_type": "markdown",
   "id": "dc370742",
   "metadata": {},
   "source": [
    "## SMV con Kernel polinomico grado 3"
   ]
  },
  {
   "cell_type": "code",
   "execution_count": 41,
   "id": "fe1ab85c",
   "metadata": {
    "ExecuteTime": {
     "end_time": "2021-11-23T03:04:38.244779Z",
     "start_time": "2021-11-23T03:02:03.095487Z"
    }
   },
   "outputs": [
    {
     "name": "stdout",
     "output_type": "stream",
     "text": [
      "Accuracy para SVM con kernel rbf:  0.9710416666666667\n"
     ]
    }
   ],
   "source": [
    "SVM_poly=SVC(kernel=\"poly\", degree=3)\n",
    "SVM_poly.fit(X_val_train_N,y_val_train)\n",
    "ACC_poly=SVM_poly.score(X_val_test_N,y_val_test)\n",
    "print(\"Accuracy para SVM con kernel rbf: \", ACC_poly)"
   ]
  },
  {
   "cell_type": "markdown",
   "id": "0682f337",
   "metadata": {},
   "source": [
    "## SVM con kernel polinómico de grado 4"
   ]
  },
  {
   "cell_type": "code",
   "execution_count": 42,
   "id": "60138b13",
   "metadata": {
    "ExecuteTime": {
     "end_time": "2021-11-23T03:07:52.197593Z",
     "start_time": "2021-11-23T03:04:38.253778Z"
    }
   },
   "outputs": [
    {
     "name": "stdout",
     "output_type": "stream",
     "text": [
      "Accuracy para SVM con kernel rbf:  0.9636458333333333\n"
     ]
    }
   ],
   "source": [
    "SVM_poly=SVC(kernel=\"poly\", degree=4)\n",
    "SVM_poly.fit(X_val_train_N,y_val_train)\n",
    "ACC_poly=SVM_poly.score(X_val_test_N,y_val_test)\n",
    "print(\"Accuracy para SVM con kernel rbf: \", ACC_poly)"
   ]
  },
  {
   "cell_type": "markdown",
   "id": "1dba2db4",
   "metadata": {},
   "source": [
    "## SVM con kernel sigmoide"
   ]
  },
  {
   "cell_type": "code",
   "execution_count": 43,
   "id": "d25630c4",
   "metadata": {
    "ExecuteTime": {
     "end_time": "2021-11-23T03:11:35.727649Z",
     "start_time": "2021-11-23T03:07:52.202597Z"
    }
   },
   "outputs": [
    {
     "name": "stdout",
     "output_type": "stream",
     "text": [
      "Accuracy para SVM con kernel sigmoide:  0.7770833333333333\n"
     ]
    }
   ],
   "source": [
    "SVM_sig=SVC(kernel=\"sigmoid\")\n",
    "SVM_sig.fit(X_val_train_N,y_val_train)\n",
    "ACC_sig=SVM_sig.score(X_val_test_N,y_val_test)\n",
    "print(\"Accuracy para SVM con kernel sigmoide: \", ACC_sig)"
   ]
  },
  {
   "cell_type": "markdown",
   "id": "6137fe9f",
   "metadata": {},
   "source": [
    "## Voting Classifier"
   ]
  },
  {
   "cell_type": "code",
   "execution_count": 44,
   "id": "c1251183",
   "metadata": {
    "ExecuteTime": {
     "end_time": "2021-11-23T03:11:35.743651Z",
     "start_time": "2021-11-23T03:11:35.730652Z"
    }
   },
   "outputs": [],
   "source": [
    "#ridge=linear_model.LogisticRegression(max_iter= 20000,penalty='l2',fit_intercept=True, random_state=123)"
   ]
  },
  {
   "cell_type": "code",
   "execution_count": 45,
   "id": "20b7e4b0",
   "metadata": {
    "ExecuteTime": {
     "end_time": "2021-11-23T03:11:35.913648Z",
     "start_time": "2021-11-23T03:11:35.749656Z"
    }
   },
   "outputs": [],
   "source": [
    "from sklearn.neighbors import KNeighborsClassifier\n",
    "knn=KNeighborsClassifier()"
   ]
  },
  {
   "cell_type": "code",
   "execution_count": 46,
   "id": "1569174b",
   "metadata": {
    "ExecuteTime": {
     "end_time": "2021-11-23T03:11:36.053651Z",
     "start_time": "2021-11-23T03:11:35.916654Z"
    }
   },
   "outputs": [],
   "source": [
    "#tree=DecisionTreeClassifier(random_state=123)"
   ]
  },
  {
   "cell_type": "code",
   "execution_count": 47,
   "id": "1314b0ac",
   "metadata": {
    "ExecuteTime": {
     "end_time": "2021-11-23T03:11:36.178655Z",
     "start_time": "2021-11-23T03:11:36.058654Z"
    }
   },
   "outputs": [],
   "source": [
    "#svm=SVC( random_state=123, probability=True)   "
   ]
  },
  {
   "cell_type": "code",
   "execution_count": 48,
   "id": "896193af",
   "metadata": {
    "ExecuteTime": {
     "end_time": "2021-11-23T03:11:36.304648Z",
     "start_time": "2021-11-23T03:11:36.181653Z"
    }
   },
   "outputs": [],
   "source": [
    "#modelos_lista=(ridge, knn, tree, svm)\n",
    "\n",
    "#for modelo in modelos_lista:\n",
    "    #modelo.fit(X_val_train_N,y_val_train)\n",
    "    #ACmodelos=modelo.score(X_val_test_N,y_val_test)\n",
    "    #print(\"AC: \",ACmodelos)"
   ]
  },
  {
   "cell_type": "code",
   "execution_count": 49,
   "id": "e3cc813a",
   "metadata": {
    "ExecuteTime": {
     "end_time": "2021-11-23T03:11:36.459799Z",
     "start_time": "2021-11-23T03:11:36.307655Z"
    }
   },
   "outputs": [],
   "source": [
    "#from sklearn.ensemble import VotingClassifier"
   ]
  },
  {
   "cell_type": "code",
   "execution_count": 50,
   "id": "01835ff5",
   "metadata": {
    "ExecuteTime": {
     "end_time": "2021-11-23T03:11:36.586094Z",
     "start_time": "2021-11-23T03:11:36.462765Z"
    }
   },
   "outputs": [],
   "source": [
    "#modelos=[('ridge',ridge),('knn',knn),('arbol',tree),('svm',svm)]\n",
    "#votacion=VotingClassifier(estimators=modelos,voting='soft',n_jobs=-1, weights=[2,1,3,1])"
   ]
  },
  {
   "cell_type": "code",
   "execution_count": 51,
   "id": "dac808d4",
   "metadata": {
    "ExecuteTime": {
     "end_time": "2021-11-23T03:11:36.713714Z",
     "start_time": "2021-11-23T03:11:36.589058Z"
    }
   },
   "outputs": [],
   "source": [
    "#votacion.fit(X_val_train_N, y_val_train);"
   ]
  },
  {
   "cell_type": "code",
   "execution_count": 52,
   "id": "f3359096",
   "metadata": {
    "ExecuteTime": {
     "end_time": "2021-11-23T03:11:36.824835Z",
     "start_time": "2021-11-23T03:11:36.716728Z"
    }
   },
   "outputs": [],
   "source": [
    "#AC_votacion=votacion.score(X_val_test_N,y_val_test)\n",
    "#print(\"AC_votacion: \",AC_votacion)"
   ]
  },
  {
   "cell_type": "markdown",
   "id": "b8a0fa17",
   "metadata": {},
   "source": [
    "## GridSearchCV con VotingClassifier"
   ]
  },
  {
   "cell_type": "markdown",
   "id": "56660559",
   "metadata": {},
   "source": [
    "### Regresion lineal con ridge"
   ]
  },
  {
   "cell_type": "code",
   "execution_count": 53,
   "id": "95b32e9d",
   "metadata": {
    "ExecuteTime": {
     "end_time": "2021-11-23T03:11:36.996833Z",
     "start_time": "2021-11-23T03:11:36.826831Z"
    }
   },
   "outputs": [],
   "source": [
    "#ridge1=linear_model.LogisticRegression(max_iter= 20000,penalty='l2',fit_intercept=True, random_state=123)"
   ]
  },
  {
   "cell_type": "markdown",
   "id": "6125c75c",
   "metadata": {},
   "source": [
    "### KNN"
   ]
  },
  {
   "cell_type": "code",
   "execution_count": 54,
   "id": "356a8b6a",
   "metadata": {
    "ExecuteTime": {
     "end_time": "2021-11-23T03:11:37.123104Z",
     "start_time": "2021-11-23T03:11:36.999843Z"
    }
   },
   "outputs": [],
   "source": [
    "#knn1=KNeighborsClassifier(n_jobs=-1)"
   ]
  },
  {
   "cell_type": "markdown",
   "id": "3799e582",
   "metadata": {},
   "source": [
    "### Arbol"
   ]
  },
  {
   "cell_type": "code",
   "execution_count": 55,
   "id": "6a682881",
   "metadata": {
    "ExecuteTime": {
     "end_time": "2021-11-23T03:11:37.262106Z",
     "start_time": "2021-11-23T03:11:37.126106Z"
    }
   },
   "outputs": [],
   "source": [
    "#tree1=DecisionTreeClassifier(random_state=123)"
   ]
  },
  {
   "cell_type": "markdown",
   "id": "1b35b206",
   "metadata": {},
   "source": [
    "### SMV"
   ]
  },
  {
   "cell_type": "code",
   "execution_count": 56,
   "id": "78428d18",
   "metadata": {
    "ExecuteTime": {
     "end_time": "2021-11-23T03:11:37.388109Z",
     "start_time": "2021-11-23T03:11:37.265109Z"
    }
   },
   "outputs": [],
   "source": [
    "#svm1=SVC( random_state=123)"
   ]
  },
  {
   "cell_type": "markdown",
   "id": "4e8f1d44",
   "metadata": {},
   "source": [
    "###  Creamos el \"meta modelo\" con el ensemble del VotingClassifier"
   ]
  },
  {
   "cell_type": "code",
   "execution_count": 57,
   "id": "716c08c5",
   "metadata": {
    "ExecuteTime": {
     "end_time": "2021-11-23T03:11:37.498119Z",
     "start_time": "2021-11-23T03:11:37.391105Z"
    }
   },
   "outputs": [],
   "source": [
    "#modelos1=[('ridge',ridge1),('knn',knn1),('arbol',tree1),('svm',svm1)]\n",
    "\n",
    "#ensemble=VotingClassifier(estimators=modelos1,voting='hard',n_jobs=-1,weights=[2,1,3,2])"
   ]
  },
  {
   "cell_type": "code",
   "execution_count": 58,
   "id": "896c7e24",
   "metadata": {
    "ExecuteTime": {
     "end_time": "2021-11-23T03:11:37.624107Z",
     "start_time": "2021-11-23T03:11:37.506113Z"
    }
   },
   "outputs": [],
   "source": [
    "#hiperparametros={}"
   ]
  },
  {
   "cell_type": "code",
   "execution_count": 59,
   "id": "69565b9b",
   "metadata": {
    "ExecuteTime": {
     "end_time": "2021-11-23T03:11:37.750114Z",
     "start_time": "2021-11-23T03:11:37.627107Z"
    }
   },
   "outputs": [],
   "source": [
    "#hiperparametros['ridge__C']=[1e-1,1,1e1]"
   ]
  },
  {
   "cell_type": "code",
   "execution_count": 60,
   "id": "7b0a2bc9",
   "metadata": {
    "ExecuteTime": {
     "end_time": "2021-11-23T03:11:37.877422Z",
     "start_time": "2021-11-23T03:11:37.758116Z"
    }
   },
   "outputs": [],
   "source": [
    "#hiperparametros['knn__n_neighbors']=[5,7]"
   ]
  },
  {
   "cell_type": "code",
   "execution_count": 61,
   "id": "e62e93ee",
   "metadata": {
    "ExecuteTime": {
     "end_time": "2021-11-23T03:11:38.000453Z",
     "start_time": "2021-11-23T03:11:37.880177Z"
    }
   },
   "outputs": [],
   "source": [
    "#hiperparametros['arbol__max_depth']=[1,3,7,9]"
   ]
  },
  {
   "cell_type": "code",
   "execution_count": 62,
   "id": "9b619e74",
   "metadata": {
    "ExecuteTime": {
     "end_time": "2021-11-23T03:11:38.140451Z",
     "start_time": "2021-11-23T03:11:38.005453Z"
    }
   },
   "outputs": [],
   "source": [
    "#hiperparametros['svm__C']=[1e-3, 1e-2,1e3]"
   ]
  },
  {
   "cell_type": "code",
   "execution_count": 63,
   "id": "4df61ff3",
   "metadata": {
    "ExecuteTime": {
     "end_time": "2021-11-23T03:11:38.312452Z",
     "start_time": "2021-11-23T03:11:38.144452Z"
    }
   },
   "outputs": [],
   "source": [
    "#hiperparametros"
   ]
  },
  {
   "cell_type": "markdown",
   "id": "ac031f0a",
   "metadata": {},
   "source": [
    "## Creamos GridSearchCV"
   ]
  },
  {
   "cell_type": "code",
   "execution_count": 64,
   "id": "0a105e65",
   "metadata": {
    "ExecuteTime": {
     "end_time": "2021-11-23T03:11:38.422448Z",
     "start_time": "2021-11-23T03:11:38.316457Z"
    }
   },
   "outputs": [],
   "source": [
    "#from sklearn.model_selection import GridSearchCV\n",
    "\n",
    "#grid_ensemble= GridSearchCV(estimator=ensemble, param_grid=hiperparametros, cv=5,n_jobs=-1, return_train_score=True)"
   ]
  },
  {
   "cell_type": "markdown",
   "id": "8af1f764",
   "metadata": {},
   "source": [
    "### Lo Entrenamos"
   ]
  },
  {
   "cell_type": "code",
   "execution_count": 65,
   "id": "e8dececa",
   "metadata": {
    "ExecuteTime": {
     "end_time": "2021-11-23T03:11:38.550456Z",
     "start_time": "2021-11-23T03:11:38.428459Z"
    }
   },
   "outputs": [],
   "source": [
    "#grid_ensemble.fit(X_val_train_N, y_val_train);"
   ]
  },
  {
   "cell_type": "code",
   "execution_count": 66,
   "id": "c26cbf72",
   "metadata": {
    "ExecuteTime": {
     "end_time": "2021-11-23T03:11:38.692461Z",
     "start_time": "2021-11-23T03:11:38.555456Z"
    }
   },
   "outputs": [],
   "source": [
    "#grid_ensemble.best_score_"
   ]
  },
  {
   "cell_type": "code",
   "execution_count": 67,
   "id": "cf2599c2",
   "metadata": {
    "ExecuteTime": {
     "end_time": "2021-11-23T03:11:38.818448Z",
     "start_time": "2021-11-23T03:11:38.699457Z"
    }
   },
   "outputs": [],
   "source": [
    "#grid_ensemble.best_params_"
   ]
  },
  {
   "cell_type": "code",
   "execution_count": 68,
   "id": "9dd05d15",
   "metadata": {
    "ExecuteTime": {
     "end_time": "2021-11-23T03:11:38.960455Z",
     "start_time": "2021-11-23T03:11:38.822453Z"
    }
   },
   "outputs": [],
   "source": [
    "#grid_ensemble.predict(X)"
   ]
  },
  {
   "cell_type": "markdown",
   "id": "3fe20d9a",
   "metadata": {},
   "source": [
    "### Lo Evaluamos "
   ]
  },
  {
   "cell_type": "code",
   "execution_count": 69,
   "id": "d94992c1",
   "metadata": {
    "ExecuteTime": {
     "end_time": "2021-11-23T03:11:39.100464Z",
     "start_time": "2021-11-23T03:11:38.965453Z"
    }
   },
   "outputs": [],
   "source": [
    "#grid_ensemble.best_estimator_"
   ]
  },
  {
   "cell_type": "code",
   "execution_count": 70,
   "id": "a18e0f3b",
   "metadata": {
    "ExecuteTime": {
     "end_time": "2021-11-23T03:11:39.255449Z",
     "start_time": "2021-11-23T03:11:39.106460Z"
    }
   },
   "outputs": [],
   "source": [
    "#modelo=grid_ensemble.best_estimator_\n",
    "#modelo.fit(X_val_train_N, y_val_train)"
   ]
  },
  {
   "cell_type": "code",
   "execution_count": 71,
   "id": "1d0c4200",
   "metadata": {
    "ExecuteTime": {
     "end_time": "2021-11-23T03:11:39.364451Z",
     "start_time": "2021-11-23T03:11:39.259455Z"
    }
   },
   "outputs": [],
   "source": [
    "#ACGSCV=modelo.score(X_test,y_test)\n",
    "#ACGSCV"
   ]
  },
  {
   "cell_type": "markdown",
   "id": "091021fe",
   "metadata": {},
   "source": [
    "## Ramdom Forest"
   ]
  },
  {
   "cell_type": "markdown",
   "id": "d763cfca",
   "metadata": {},
   "source": [
    "### Creamos el Modelo"
   ]
  },
  {
   "cell_type": "code",
   "execution_count": 72,
   "id": "a995b0a3",
   "metadata": {
    "ExecuteTime": {
     "end_time": "2021-11-23T03:11:39.474451Z",
     "start_time": "2021-11-23T03:11:39.368451Z"
    }
   },
   "outputs": [],
   "source": [
    "\n",
    "#from sklearn.ensemble import RandomForestClassifier\n",
    "#rf=RandomForestClassifier(n_estimators=100,n_jobs=-1,random_state=123)"
   ]
  },
  {
   "cell_type": "markdown",
   "id": "ae9747b5",
   "metadata": {},
   "source": [
    "### Lo Entrenamos"
   ]
  },
  {
   "cell_type": "code",
   "execution_count": 73,
   "id": "602f8778",
   "metadata": {
    "ExecuteTime": {
     "end_time": "2021-11-23T03:11:39.630453Z",
     "start_time": "2021-11-23T03:11:39.478453Z"
    }
   },
   "outputs": [],
   "source": [
    "#rf.fit(X_val_train_N, y_val_train_N)"
   ]
  },
  {
   "cell_type": "markdown",
   "id": "4633d7ba",
   "metadata": {},
   "source": [
    "### Lo Evaluamos"
   ]
  },
  {
   "cell_type": "code",
   "execution_count": 74,
   "id": "5985725f",
   "metadata": {
    "ExecuteTime": {
     "end_time": "2021-11-23T03:11:39.768452Z",
     "start_time": "2021-11-23T03:11:39.635451Z"
    }
   },
   "outputs": [],
   "source": [
    "#rf.score(X_test,y_test)"
   ]
  },
  {
   "cell_type": "markdown",
   "id": "9a4f1a8f",
   "metadata": {},
   "source": [
    "## Extremely Randomized Trees\n",
    "\n",
    "\n",
    "\n"
   ]
  },
  {
   "cell_type": "code",
   "execution_count": 75,
   "id": "804beb33",
   "metadata": {
    "ExecuteTime": {
     "end_time": "2021-11-23T03:11:39.906453Z",
     "start_time": "2021-11-23T03:11:39.772457Z"
    }
   },
   "outputs": [],
   "source": [
    "#from sklearn.ensemble import ExtraTreesClassifier\n",
    "#etc=ExtraTreesClassifier(n_estimators=300,n_jobs=-1,random_state=123)"
   ]
  },
  {
   "cell_type": "code",
   "execution_count": 76,
   "id": "b85a21f4",
   "metadata": {
    "ExecuteTime": {
     "end_time": "2021-11-23T03:11:40.030447Z",
     "start_time": "2021-11-23T03:11:39.911455Z"
    }
   },
   "outputs": [],
   "source": [
    "#etc.fit(X_val_train_N, y_val_train)"
   ]
  },
  {
   "cell_type": "code",
   "execution_count": 77,
   "id": "9b7200a6",
   "metadata": {
    "ExecuteTime": {
     "end_time": "2021-11-23T03:11:40.154461Z",
     "start_time": "2021-11-23T03:11:40.033455Z"
    }
   },
   "outputs": [],
   "source": [
    "#etc.score(X_test,y_test)"
   ]
  },
  {
   "cell_type": "markdown",
   "id": "a2a56c32",
   "metadata": {},
   "source": [
    "# Eleccion de Modelo"
   ]
  },
  {
   "cell_type": "code",
   "execution_count": null,
   "id": "ecf3f373",
   "metadata": {},
   "outputs": [],
   "source": []
  },
  {
   "cell_type": "markdown",
   "id": "1663a045",
   "metadata": {},
   "source": [
    "De acuerdo a los resultados obtenidos, se eligio el modelo  SMV con Kernel no lineal \"rbf\" con un accuracy del 0.976 "
   ]
  },
  {
   "cell_type": "markdown",
   "id": "024b56e1",
   "metadata": {},
   "source": [
    "## Normalizamos"
   ]
  },
  {
   "cell_type": "code",
   "execution_count": 78,
   "id": "58921327",
   "metadata": {
    "ExecuteTime": {
     "end_time": "2021-11-23T03:11:40.630456Z",
     "start_time": "2021-11-23T03:11:40.171454Z"
    }
   },
   "outputs": [],
   "source": [
    "t_norm=MinMaxScaler()\n",
    "transformador_columnas= MinMaxScaler(feature_range=(0, 1), copy=False)\n",
    "transformador_columnas.fit(X_train)\n",
    "X_train_N=transformador_columnas.transform(X_train)\n",
    "X_test_N=transformador_columnas.transform(X_test)"
   ]
  },
  {
   "cell_type": "markdown",
   "id": "a0d119b9",
   "metadata": {},
   "source": [
    "## Entrenamos y Evaluamos"
   ]
  },
  {
   "cell_type": "code",
   "execution_count": 79,
   "id": "1cef3474",
   "metadata": {
    "ExecuteTime": {
     "end_time": "2021-11-23T03:16:08.150715Z",
     "start_time": "2021-11-23T03:11:40.632456Z"
    }
   },
   "outputs": [
    {
     "name": "stdout",
     "output_type": "stream",
     "text": [
      "Accuracy para SVM con kernel rbf:  0.97625\n"
     ]
    }
   ],
   "source": [
    "SVM_rbfp=SVC(kernel=\"rbf\")\n",
    "SVM_rbfp.fit(X_train_N,y_train)\n",
    "ACC_rbfp=SVM_rbf.score(X_test_N,y_test)\n",
    "print(\"Accuracy para SVM con kernel rbf: \", ACC_rbfp)"
   ]
  },
  {
   "cell_type": "markdown",
   "id": "0459df6c",
   "metadata": {},
   "source": [
    "## Modelo de Produccion"
   ]
  },
  {
   "cell_type": "code",
   "execution_count": 89,
   "id": "47d72e07",
   "metadata": {
    "ExecuteTime": {
     "end_time": "2021-11-23T03:44:04.510786Z",
     "start_time": "2021-11-23T03:39:32.178121Z"
    }
   },
   "outputs": [
    {
     "data": {
      "text/plain": [
       "SVC()"
      ]
     },
     "execution_count": 89,
     "metadata": {},
     "output_type": "execute_result"
    }
   ],
   "source": [
    "SVM_rbfp1=SVC(kernel=\"rbf\")\n",
    "SVM_rbfp1.fit(X,y)"
   ]
  },
  {
   "cell_type": "markdown",
   "id": "d1bcd2c1",
   "metadata": {},
   "source": [
    "### Nuevos Datos"
   ]
  },
  {
   "cell_type": "code",
   "execution_count": 90,
   "id": "49d1aa5b",
   "metadata": {
    "ExecuteTime": {
     "end_time": "2021-11-23T03:44:04.587786Z",
     "start_time": "2021-11-23T03:44:04.517795Z"
    }
   },
   "outputs": [
    {
     "data": {
      "text/plain": [
       "array([[0., 0., 0., ..., 0., 0., 0.],\n",
       "       [0., 0., 0., ..., 0., 0., 0.],\n",
       "       [0., 0., 0., ..., 0., 0., 0.],\n",
       "       ...,\n",
       "       [0., 0., 0., ..., 0., 0., 0.],\n",
       "       [0., 0., 0., ..., 0., 0., 0.],\n",
       "       [0., 0., 0., ..., 0., 0., 0.]])"
      ]
     },
     "execution_count": 90,
     "metadata": {},
     "output_type": "execute_result"
    }
   ],
   "source": [
    "X1=np.load('X_MNIST_10_mil.npy', allow_pickle=True)\n",
    "X1\n"
   ]
  },
  {
   "cell_type": "code",
   "execution_count": 110,
   "id": "71d68f74",
   "metadata": {
    "ExecuteTime": {
     "end_time": "2021-11-23T04:24:40.963083Z",
     "start_time": "2021-11-23T04:24:40.931046Z"
    }
   },
   "outputs": [
    {
     "ename": "AttributeError",
     "evalue": "'DataFrame' object has no attribute 'unique'",
     "output_type": "error",
     "traceback": [
      "\u001b[1;31m---------------------------------------------------------------------------\u001b[0m",
      "\u001b[1;31mAttributeError\u001b[0m                            Traceback (most recent call last)",
      "\u001b[1;32m<ipython-input-110-9708c53124e6>\u001b[0m in \u001b[0;36m<module>\u001b[1;34m\u001b[0m\n\u001b[1;32m----> 1\u001b[1;33m \u001b[0mX1\u001b[0m\u001b[1;33m.\u001b[0m\u001b[0munique\u001b[0m\u001b[1;33m(\u001b[0m\u001b[1;33m)\u001b[0m\u001b[1;33m\u001b[0m\u001b[1;33m\u001b[0m\u001b[0m\n\u001b[0m",
      "\u001b[1;32m~\\anaconda3\\lib\\site-packages\\pandas\\core\\generic.py\u001b[0m in \u001b[0;36m__getattr__\u001b[1;34m(self, name)\u001b[0m\n\u001b[0;32m   5463\u001b[0m             \u001b[1;32mif\u001b[0m \u001b[0mself\u001b[0m\u001b[1;33m.\u001b[0m\u001b[0m_info_axis\u001b[0m\u001b[1;33m.\u001b[0m\u001b[0m_can_hold_identifiers_and_holds_name\u001b[0m\u001b[1;33m(\u001b[0m\u001b[0mname\u001b[0m\u001b[1;33m)\u001b[0m\u001b[1;33m:\u001b[0m\u001b[1;33m\u001b[0m\u001b[1;33m\u001b[0m\u001b[0m\n\u001b[0;32m   5464\u001b[0m                 \u001b[1;32mreturn\u001b[0m \u001b[0mself\u001b[0m\u001b[1;33m[\u001b[0m\u001b[0mname\u001b[0m\u001b[1;33m]\u001b[0m\u001b[1;33m\u001b[0m\u001b[1;33m\u001b[0m\u001b[0m\n\u001b[1;32m-> 5465\u001b[1;33m             \u001b[1;32mreturn\u001b[0m \u001b[0mobject\u001b[0m\u001b[1;33m.\u001b[0m\u001b[0m__getattribute__\u001b[0m\u001b[1;33m(\u001b[0m\u001b[0mself\u001b[0m\u001b[1;33m,\u001b[0m \u001b[0mname\u001b[0m\u001b[1;33m)\u001b[0m\u001b[1;33m\u001b[0m\u001b[1;33m\u001b[0m\u001b[0m\n\u001b[0m\u001b[0;32m   5466\u001b[0m \u001b[1;33m\u001b[0m\u001b[0m\n\u001b[0;32m   5467\u001b[0m     \u001b[1;32mdef\u001b[0m \u001b[0m__setattr__\u001b[0m\u001b[1;33m(\u001b[0m\u001b[0mself\u001b[0m\u001b[1;33m,\u001b[0m \u001b[0mname\u001b[0m\u001b[1;33m:\u001b[0m \u001b[0mstr\u001b[0m\u001b[1;33m,\u001b[0m \u001b[0mvalue\u001b[0m\u001b[1;33m)\u001b[0m \u001b[1;33m->\u001b[0m \u001b[1;32mNone\u001b[0m\u001b[1;33m:\u001b[0m\u001b[1;33m\u001b[0m\u001b[1;33m\u001b[0m\u001b[0m\n",
      "\u001b[1;31mAttributeError\u001b[0m: 'DataFrame' object has no attribute 'unique'"
     ]
    }
   ],
   "source": [
    "X1.unique()"
   ]
  },
  {
   "cell_type": "code",
   "execution_count": 114,
   "id": "547f439d",
   "metadata": {
    "ExecuteTime": {
     "end_time": "2021-11-23T04:31:25.460396Z",
     "start_time": "2021-11-23T04:31:25.209429Z"
    }
   },
   "outputs": [
    {
     "data": {
      "text/plain": [
       "MinMaxScaler(copy=False)"
      ]
     },
     "execution_count": 114,
     "metadata": {},
     "output_type": "execute_result"
    }
   ],
   "source": [
    "t_norm1=MinMaxScaler()\n",
    "transformador_columnas1= MinMaxScaler(feature_range=(0, 1), copy=False)\n",
    "transformador_columnas1.fit(X)"
   ]
  },
  {
   "cell_type": "code",
   "execution_count": 115,
   "id": "42d0b9cc",
   "metadata": {
    "ExecuteTime": {
     "end_time": "2021-11-23T04:31:46.369409Z",
     "start_time": "2021-11-23T04:31:46.224414Z"
    }
   },
   "outputs": [
    {
     "data": {
      "text/html": [
       "<div>\n",
       "<style scoped>\n",
       "    .dataframe tbody tr th:only-of-type {\n",
       "        vertical-align: middle;\n",
       "    }\n",
       "\n",
       "    .dataframe tbody tr th {\n",
       "        vertical-align: top;\n",
       "    }\n",
       "\n",
       "    .dataframe thead th {\n",
       "        text-align: right;\n",
       "    }\n",
       "</style>\n",
       "<table border=\"1\" class=\"dataframe\">\n",
       "  <thead>\n",
       "    <tr style=\"text-align: right;\">\n",
       "      <th></th>\n",
       "      <th>0</th>\n",
       "      <th>1</th>\n",
       "      <th>2</th>\n",
       "      <th>3</th>\n",
       "      <th>4</th>\n",
       "      <th>5</th>\n",
       "      <th>6</th>\n",
       "      <th>7</th>\n",
       "      <th>8</th>\n",
       "      <th>9</th>\n",
       "      <th>...</th>\n",
       "      <th>774</th>\n",
       "      <th>775</th>\n",
       "      <th>776</th>\n",
       "      <th>777</th>\n",
       "      <th>778</th>\n",
       "      <th>779</th>\n",
       "      <th>780</th>\n",
       "      <th>781</th>\n",
       "      <th>782</th>\n",
       "      <th>783</th>\n",
       "    </tr>\n",
       "  </thead>\n",
       "  <tbody>\n",
       "    <tr>\n",
       "      <th>0</th>\n",
       "      <td>0.0</td>\n",
       "      <td>0.0</td>\n",
       "      <td>0.0</td>\n",
       "      <td>0.0</td>\n",
       "      <td>0.0</td>\n",
       "      <td>0.0</td>\n",
       "      <td>0.0</td>\n",
       "      <td>0.0</td>\n",
       "      <td>0.0</td>\n",
       "      <td>0.0</td>\n",
       "      <td>...</td>\n",
       "      <td>0.0</td>\n",
       "      <td>0.0</td>\n",
       "      <td>0.0</td>\n",
       "      <td>0.0</td>\n",
       "      <td>0.0</td>\n",
       "      <td>0.0</td>\n",
       "      <td>0.0</td>\n",
       "      <td>0.0</td>\n",
       "      <td>0.0</td>\n",
       "      <td>0.0</td>\n",
       "    </tr>\n",
       "    <tr>\n",
       "      <th>1</th>\n",
       "      <td>0.0</td>\n",
       "      <td>0.0</td>\n",
       "      <td>0.0</td>\n",
       "      <td>0.0</td>\n",
       "      <td>0.0</td>\n",
       "      <td>0.0</td>\n",
       "      <td>0.0</td>\n",
       "      <td>0.0</td>\n",
       "      <td>0.0</td>\n",
       "      <td>0.0</td>\n",
       "      <td>...</td>\n",
       "      <td>0.0</td>\n",
       "      <td>0.0</td>\n",
       "      <td>0.0</td>\n",
       "      <td>0.0</td>\n",
       "      <td>0.0</td>\n",
       "      <td>0.0</td>\n",
       "      <td>0.0</td>\n",
       "      <td>0.0</td>\n",
       "      <td>0.0</td>\n",
       "      <td>0.0</td>\n",
       "    </tr>\n",
       "    <tr>\n",
       "      <th>2</th>\n",
       "      <td>0.0</td>\n",
       "      <td>0.0</td>\n",
       "      <td>0.0</td>\n",
       "      <td>0.0</td>\n",
       "      <td>0.0</td>\n",
       "      <td>0.0</td>\n",
       "      <td>0.0</td>\n",
       "      <td>0.0</td>\n",
       "      <td>0.0</td>\n",
       "      <td>0.0</td>\n",
       "      <td>...</td>\n",
       "      <td>0.0</td>\n",
       "      <td>0.0</td>\n",
       "      <td>0.0</td>\n",
       "      <td>0.0</td>\n",
       "      <td>0.0</td>\n",
       "      <td>0.0</td>\n",
       "      <td>0.0</td>\n",
       "      <td>0.0</td>\n",
       "      <td>0.0</td>\n",
       "      <td>0.0</td>\n",
       "    </tr>\n",
       "    <tr>\n",
       "      <th>3</th>\n",
       "      <td>0.0</td>\n",
       "      <td>0.0</td>\n",
       "      <td>0.0</td>\n",
       "      <td>0.0</td>\n",
       "      <td>0.0</td>\n",
       "      <td>0.0</td>\n",
       "      <td>0.0</td>\n",
       "      <td>0.0</td>\n",
       "      <td>0.0</td>\n",
       "      <td>0.0</td>\n",
       "      <td>...</td>\n",
       "      <td>0.0</td>\n",
       "      <td>0.0</td>\n",
       "      <td>0.0</td>\n",
       "      <td>0.0</td>\n",
       "      <td>0.0</td>\n",
       "      <td>0.0</td>\n",
       "      <td>0.0</td>\n",
       "      <td>0.0</td>\n",
       "      <td>0.0</td>\n",
       "      <td>0.0</td>\n",
       "    </tr>\n",
       "    <tr>\n",
       "      <th>4</th>\n",
       "      <td>0.0</td>\n",
       "      <td>0.0</td>\n",
       "      <td>0.0</td>\n",
       "      <td>0.0</td>\n",
       "      <td>0.0</td>\n",
       "      <td>0.0</td>\n",
       "      <td>0.0</td>\n",
       "      <td>0.0</td>\n",
       "      <td>0.0</td>\n",
       "      <td>0.0</td>\n",
       "      <td>...</td>\n",
       "      <td>0.0</td>\n",
       "      <td>0.0</td>\n",
       "      <td>0.0</td>\n",
       "      <td>0.0</td>\n",
       "      <td>0.0</td>\n",
       "      <td>0.0</td>\n",
       "      <td>0.0</td>\n",
       "      <td>0.0</td>\n",
       "      <td>0.0</td>\n",
       "      <td>0.0</td>\n",
       "    </tr>\n",
       "    <tr>\n",
       "      <th>...</th>\n",
       "      <td>...</td>\n",
       "      <td>...</td>\n",
       "      <td>...</td>\n",
       "      <td>...</td>\n",
       "      <td>...</td>\n",
       "      <td>...</td>\n",
       "      <td>...</td>\n",
       "      <td>...</td>\n",
       "      <td>...</td>\n",
       "      <td>...</td>\n",
       "      <td>...</td>\n",
       "      <td>...</td>\n",
       "      <td>...</td>\n",
       "      <td>...</td>\n",
       "      <td>...</td>\n",
       "      <td>...</td>\n",
       "      <td>...</td>\n",
       "      <td>...</td>\n",
       "      <td>...</td>\n",
       "      <td>...</td>\n",
       "      <td>...</td>\n",
       "    </tr>\n",
       "    <tr>\n",
       "      <th>9995</th>\n",
       "      <td>0.0</td>\n",
       "      <td>0.0</td>\n",
       "      <td>0.0</td>\n",
       "      <td>0.0</td>\n",
       "      <td>0.0</td>\n",
       "      <td>0.0</td>\n",
       "      <td>0.0</td>\n",
       "      <td>0.0</td>\n",
       "      <td>0.0</td>\n",
       "      <td>0.0</td>\n",
       "      <td>...</td>\n",
       "      <td>0.0</td>\n",
       "      <td>0.0</td>\n",
       "      <td>0.0</td>\n",
       "      <td>0.0</td>\n",
       "      <td>0.0</td>\n",
       "      <td>0.0</td>\n",
       "      <td>0.0</td>\n",
       "      <td>0.0</td>\n",
       "      <td>0.0</td>\n",
       "      <td>0.0</td>\n",
       "    </tr>\n",
       "    <tr>\n",
       "      <th>9996</th>\n",
       "      <td>0.0</td>\n",
       "      <td>0.0</td>\n",
       "      <td>0.0</td>\n",
       "      <td>0.0</td>\n",
       "      <td>0.0</td>\n",
       "      <td>0.0</td>\n",
       "      <td>0.0</td>\n",
       "      <td>0.0</td>\n",
       "      <td>0.0</td>\n",
       "      <td>0.0</td>\n",
       "      <td>...</td>\n",
       "      <td>0.0</td>\n",
       "      <td>0.0</td>\n",
       "      <td>0.0</td>\n",
       "      <td>0.0</td>\n",
       "      <td>0.0</td>\n",
       "      <td>0.0</td>\n",
       "      <td>0.0</td>\n",
       "      <td>0.0</td>\n",
       "      <td>0.0</td>\n",
       "      <td>0.0</td>\n",
       "    </tr>\n",
       "    <tr>\n",
       "      <th>9997</th>\n",
       "      <td>0.0</td>\n",
       "      <td>0.0</td>\n",
       "      <td>0.0</td>\n",
       "      <td>0.0</td>\n",
       "      <td>0.0</td>\n",
       "      <td>0.0</td>\n",
       "      <td>0.0</td>\n",
       "      <td>0.0</td>\n",
       "      <td>0.0</td>\n",
       "      <td>0.0</td>\n",
       "      <td>...</td>\n",
       "      <td>0.0</td>\n",
       "      <td>0.0</td>\n",
       "      <td>0.0</td>\n",
       "      <td>0.0</td>\n",
       "      <td>0.0</td>\n",
       "      <td>0.0</td>\n",
       "      <td>0.0</td>\n",
       "      <td>0.0</td>\n",
       "      <td>0.0</td>\n",
       "      <td>0.0</td>\n",
       "    </tr>\n",
       "    <tr>\n",
       "      <th>9998</th>\n",
       "      <td>0.0</td>\n",
       "      <td>0.0</td>\n",
       "      <td>0.0</td>\n",
       "      <td>0.0</td>\n",
       "      <td>0.0</td>\n",
       "      <td>0.0</td>\n",
       "      <td>0.0</td>\n",
       "      <td>0.0</td>\n",
       "      <td>0.0</td>\n",
       "      <td>0.0</td>\n",
       "      <td>...</td>\n",
       "      <td>0.0</td>\n",
       "      <td>0.0</td>\n",
       "      <td>0.0</td>\n",
       "      <td>0.0</td>\n",
       "      <td>0.0</td>\n",
       "      <td>0.0</td>\n",
       "      <td>0.0</td>\n",
       "      <td>0.0</td>\n",
       "      <td>0.0</td>\n",
       "      <td>0.0</td>\n",
       "    </tr>\n",
       "    <tr>\n",
       "      <th>9999</th>\n",
       "      <td>0.0</td>\n",
       "      <td>0.0</td>\n",
       "      <td>0.0</td>\n",
       "      <td>0.0</td>\n",
       "      <td>0.0</td>\n",
       "      <td>0.0</td>\n",
       "      <td>0.0</td>\n",
       "      <td>0.0</td>\n",
       "      <td>0.0</td>\n",
       "      <td>0.0</td>\n",
       "      <td>...</td>\n",
       "      <td>0.0</td>\n",
       "      <td>0.0</td>\n",
       "      <td>0.0</td>\n",
       "      <td>0.0</td>\n",
       "      <td>0.0</td>\n",
       "      <td>0.0</td>\n",
       "      <td>0.0</td>\n",
       "      <td>0.0</td>\n",
       "      <td>0.0</td>\n",
       "      <td>0.0</td>\n",
       "    </tr>\n",
       "  </tbody>\n",
       "</table>\n",
       "<p>10000 rows × 784 columns</p>\n",
       "</div>"
      ],
      "text/plain": [
       "      0    1    2    3    4    5    6    7    8    9    ...  774  775  776  \\\n",
       "0     0.0  0.0  0.0  0.0  0.0  0.0  0.0  0.0  0.0  0.0  ...  0.0  0.0  0.0   \n",
       "1     0.0  0.0  0.0  0.0  0.0  0.0  0.0  0.0  0.0  0.0  ...  0.0  0.0  0.0   \n",
       "2     0.0  0.0  0.0  0.0  0.0  0.0  0.0  0.0  0.0  0.0  ...  0.0  0.0  0.0   \n",
       "3     0.0  0.0  0.0  0.0  0.0  0.0  0.0  0.0  0.0  0.0  ...  0.0  0.0  0.0   \n",
       "4     0.0  0.0  0.0  0.0  0.0  0.0  0.0  0.0  0.0  0.0  ...  0.0  0.0  0.0   \n",
       "...   ...  ...  ...  ...  ...  ...  ...  ...  ...  ...  ...  ...  ...  ...   \n",
       "9995  0.0  0.0  0.0  0.0  0.0  0.0  0.0  0.0  0.0  0.0  ...  0.0  0.0  0.0   \n",
       "9996  0.0  0.0  0.0  0.0  0.0  0.0  0.0  0.0  0.0  0.0  ...  0.0  0.0  0.0   \n",
       "9997  0.0  0.0  0.0  0.0  0.0  0.0  0.0  0.0  0.0  0.0  ...  0.0  0.0  0.0   \n",
       "9998  0.0  0.0  0.0  0.0  0.0  0.0  0.0  0.0  0.0  0.0  ...  0.0  0.0  0.0   \n",
       "9999  0.0  0.0  0.0  0.0  0.0  0.0  0.0  0.0  0.0  0.0  ...  0.0  0.0  0.0   \n",
       "\n",
       "      777  778  779  780  781  782  783  \n",
       "0     0.0  0.0  0.0  0.0  0.0  0.0  0.0  \n",
       "1     0.0  0.0  0.0  0.0  0.0  0.0  0.0  \n",
       "2     0.0  0.0  0.0  0.0  0.0  0.0  0.0  \n",
       "3     0.0  0.0  0.0  0.0  0.0  0.0  0.0  \n",
       "4     0.0  0.0  0.0  0.0  0.0  0.0  0.0  \n",
       "...   ...  ...  ...  ...  ...  ...  ...  \n",
       "9995  0.0  0.0  0.0  0.0  0.0  0.0  0.0  \n",
       "9996  0.0  0.0  0.0  0.0  0.0  0.0  0.0  \n",
       "9997  0.0  0.0  0.0  0.0  0.0  0.0  0.0  \n",
       "9998  0.0  0.0  0.0  0.0  0.0  0.0  0.0  \n",
       "9999  0.0  0.0  0.0  0.0  0.0  0.0  0.0  \n",
       "\n",
       "[10000 rows x 784 columns]"
      ]
     },
     "execution_count": 115,
     "metadata": {},
     "output_type": "execute_result"
    }
   ],
   "source": [
    "X1=transformador_columnas1.transform(X1)\n",
    "X1=pd.DataFrame(X1)\n",
    "X1"
   ]
  },
  {
   "cell_type": "code",
   "execution_count": 116,
   "id": "09d01301",
   "metadata": {
    "ExecuteTime": {
     "end_time": "2021-11-23T04:31:50.301488Z",
     "start_time": "2021-11-23T04:31:49.961482Z"
    }
   },
   "outputs": [
    {
     "data": {
      "text/plain": [
       "array([0.00000000e+00, 1.53787005e-05, 1.54392466e-05, ...,\n",
       "       3.57142857e-02, 1.42857143e-01, 1.00000000e+00])"
      ]
     },
     "execution_count": 116,
     "metadata": {},
     "output_type": "execute_result"
    }
   ],
   "source": [
    "np.unique(X1)"
   ]
  },
  {
   "cell_type": "code",
   "execution_count": 117,
   "id": "e3170839",
   "metadata": {
    "ExecuteTime": {
     "end_time": "2021-11-23T04:31:53.465488Z",
     "start_time": "2021-11-23T04:31:53.454484Z"
    }
   },
   "outputs": [
    {
     "data": {
      "text/plain": [
       "(10000, 784)"
      ]
     },
     "execution_count": 117,
     "metadata": {},
     "output_type": "execute_result"
    }
   ],
   "source": [
    "np.shape(X1)"
   ]
  },
  {
   "cell_type": "code",
   "execution_count": null,
   "id": "94514cb1",
   "metadata": {
    "ExecuteTime": {
     "start_time": "2021-11-23T04:31:55.967Z"
    }
   },
   "outputs": [],
   "source": [
    "SVM_rbfp1=SVC(kernel=\"rbf\")\n",
    "SVM_rbfp1.fit(X,y)\n",
    "y_pred= SVM_rbfp1.predict(X1)"
   ]
  },
  {
   "cell_type": "code",
   "execution_count": null,
   "id": "5294fbc0",
   "metadata": {
    "ExecuteTime": {
     "start_time": "2021-11-23T04:31:59.916Z"
    }
   },
   "outputs": [],
   "source": [
    "y_pred= pd.DataFrame(y_pred,columns=['y_pred'])\n",
    "y_pred.to_csv('MatosMontoya_Gonzalo.csv',index=False)\n",
    "y_pred"
   ]
  },
  {
   "cell_type": "code",
   "execution_count": 94,
   "id": "4a8f0817",
   "metadata": {
    "ExecuteTime": {
     "end_time": "2021-11-23T03:50:40.394795Z",
     "start_time": "2021-11-23T03:50:40.362783Z"
    }
   },
   "outputs": [
    {
     "data": {
      "text/html": [
       "<div>\n",
       "<style scoped>\n",
       "    .dataframe tbody tr th:only-of-type {\n",
       "        vertical-align: middle;\n",
       "    }\n",
       "\n",
       "    .dataframe tbody tr th {\n",
       "        vertical-align: top;\n",
       "    }\n",
       "\n",
       "    .dataframe thead th {\n",
       "        text-align: right;\n",
       "    }\n",
       "</style>\n",
       "<table border=\"1\" class=\"dataframe\">\n",
       "  <thead>\n",
       "    <tr style=\"text-align: right;\">\n",
       "      <th></th>\n",
       "      <th>y_pred</th>\n",
       "    </tr>\n",
       "  </thead>\n",
       "  <tbody>\n",
       "    <tr>\n",
       "      <th>0</th>\n",
       "      <td>5</td>\n",
       "    </tr>\n",
       "    <tr>\n",
       "      <th>1</th>\n",
       "      <td>5</td>\n",
       "    </tr>\n",
       "    <tr>\n",
       "      <th>2</th>\n",
       "      <td>5</td>\n",
       "    </tr>\n",
       "    <tr>\n",
       "      <th>3</th>\n",
       "      <td>5</td>\n",
       "    </tr>\n",
       "    <tr>\n",
       "      <th>4</th>\n",
       "      <td>5</td>\n",
       "    </tr>\n",
       "    <tr>\n",
       "      <th>...</th>\n",
       "      <td>...</td>\n",
       "    </tr>\n",
       "    <tr>\n",
       "      <th>9995</th>\n",
       "      <td>5</td>\n",
       "    </tr>\n",
       "    <tr>\n",
       "      <th>9996</th>\n",
       "      <td>5</td>\n",
       "    </tr>\n",
       "    <tr>\n",
       "      <th>9997</th>\n",
       "      <td>5</td>\n",
       "    </tr>\n",
       "    <tr>\n",
       "      <th>9998</th>\n",
       "      <td>5</td>\n",
       "    </tr>\n",
       "    <tr>\n",
       "      <th>9999</th>\n",
       "      <td>5</td>\n",
       "    </tr>\n",
       "  </tbody>\n",
       "</table>\n",
       "<p>10000 rows × 1 columns</p>\n",
       "</div>"
      ],
      "text/plain": [
       "      y_pred\n",
       "0          5\n",
       "1          5\n",
       "2          5\n",
       "3          5\n",
       "4          5\n",
       "...      ...\n",
       "9995       5\n",
       "9996       5\n",
       "9997       5\n",
       "9998       5\n",
       "9999       5\n",
       "\n",
       "[10000 rows x 1 columns]"
      ]
     },
     "execution_count": 94,
     "metadata": {},
     "output_type": "execute_result"
    }
   ],
   "source": [
    "y_pred"
   ]
  },
  {
   "cell_type": "code",
   "execution_count": 95,
   "id": "6fa568ef",
   "metadata": {
    "ExecuteTime": {
     "end_time": "2021-11-23T03:50:40.530777Z",
     "start_time": "2021-11-23T03:50:40.398778Z"
    }
   },
   "outputs": [
    {
     "data": {
      "text/plain": [
       "(10000, 28, 28)"
      ]
     },
     "execution_count": 95,
     "metadata": {},
     "output_type": "execute_result"
    }
   ],
   "source": [
    "Y_img=np.resize(y_pred,(10000,28,28))\n",
    "Y_img.shape"
   ]
  },
  {
   "cell_type": "code",
   "execution_count": 96,
   "id": "f4d3905a",
   "metadata": {
    "ExecuteTime": {
     "end_time": "2021-11-23T03:50:43.691814Z",
     "start_time": "2021-11-23T03:50:40.535779Z"
    }
   },
   "outputs": [
    {
     "data": {
      "image/png": "[encoded data removed]",
      "text/plain": [
       "<Figure size 720x720 with 24 Axes>"
      ]
     },
     "metadata": {
      "needs_background": "light"
     },
     "output_type": "display_data"
    }
   ],
   "source": [
    "pos_inicial=500            # Seleccionar a partir de qué imagen queremos ver ésa y las  23 imágenes siguientes\n",
    "\n",
    "plt.figure(figsize = (10,10))               # tamaño de todo el plot\n",
    "plt.subplots_adjust(wspace=0.3, hspace=0.3) # para ajustar los espaciados entre cada subplot, como % del total\n",
    "\n",
    "for i in range(0,24):\n",
    "    # cargamos la imagen en cada subplot con imshow()\n",
    "    plt.subplot(4,6,i+1)\n",
    "    plt.imshow(Y_img[pos_inicial+i], cmap='binary', vmin=0, vmax=255) \n",
    "    # Info sobre los mapas de color cmap: https://matplotlib.org/3.3.3/tutorials/colors/colormaps.html\n",
    "    plt.title(y[pos_inicial+i])         # obtenemos la clase desde y_clases\n",
    "\n",
    "plt.show()"
   ]
  },
  {
   "cell_type": "code",
   "execution_count": null,
   "id": "8b0b99de",
   "metadata": {},
   "outputs": [],
   "source": []
  }
 ],
 "metadata": {
  "kernelspec": {
   "display_name": "Python 3 (ipykernel)",
   "language": "python",
   "name": "python3"
  },
  "language_info": {
   "codemirror_mode": {
    "name": "ipython",
    "version": 3
   },
   "file_extension": ".py",
   "mimetype": "text/x-python",
   "name": "python",
   "nbconvert_exporter": "python",
   "pygments_lexer": "ipython3",
   "version": "3.9.7"
  },
  "toc": {
   "base_numbering": 1,
   "nav_menu": {},
   "number_sections": true,
   "sideBar": true,
   "skip_h1_title": false,
   "title_cell": "Table of Contents",
   "title_sidebar": "Contents",
   "toc_cell": true,
   "toc_position": {},
   "toc_section_display": true,
   "toc_window_display": true
  }
 },
 "nbformat": 4,
 "nbformat_minor": 5
}
